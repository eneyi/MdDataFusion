{
 "cells": [
  {
   "cell_type": "code",
   "execution_count": 1,
   "metadata": {},
   "outputs": [],
   "source": [
    "import pandas as pd\n",
    "import os\n",
    "from datetime import datetime as dt\n",
    "import matplotlib.pyplot as plt\n",
    "%matplotlib inline"
   ]
  },
  {
   "cell_type": "code",
   "execution_count": 2,
   "metadata": {
    "collapsed": true
   },
   "outputs": [],
   "source": [
    "#read in ids data\n",
    "idspath = \"Database/cleaned/PhysicalDimension/ids/ids.csv\"\n",
    "ids = pd.read_csv(idspath)"
   ]
  },
  {
   "cell_type": "code",
   "execution_count": 3,
   "metadata": {},
   "outputs": [
    {
     "name": "stderr",
     "output_type": "stream",
     "text": [
      "/usr/local/lib/python3.6/site-packages/IPython/core/interactiveshell.py:2785: DtypeWarning: Columns (10,11) have mixed types. Specify dtype option on import or set low_memory=False.\n",
      "  interactivity=interactivity, compiler=compiler, result=result)\n"
     ]
    }
   ],
   "source": [
    "#read in firewall data\n",
    "fwpath = \"Database/cleaned/PhysicalDimension/firewall/firewall.csv\"\n",
    "firewall = pd.read_csv(fwpath)"
   ]
  },
  {
   "cell_type": "code",
   "execution_count": 4,
   "metadata": {
    "collapsed": true
   },
   "outputs": [],
   "source": [
    "#read and process pcap files\n",
    "pcappath = \"Database/cleaned/PhysicalDimension/pcaps/\"\n",
    "pcaps = [pd.read_csv(pcappath+i, sep=\"\\t\", header=None) for i in os.listdir(pcappath)]\n",
    "pcapdata=pd.concat(pcaps)\n",
    "pcapdata = pcapdata.fillna(0)"
   ]
  },
  {
   "cell_type": "code",
   "execution_count": 5,
   "metadata": {
    "collapsed": true
   },
   "outputs": [],
   "source": [
    "pcapdata = pcapdata.fillna(0)"
   ]
  },
  {
   "cell_type": "code",
   "execution_count": 6,
   "metadata": {
    "collapsed": true
   },
   "outputs": [],
   "source": [
    "#select needed columns\n",
    "pcapcols=['datetime','epoch_time','source_ip','destination_ip','source_port','destination_port','protocol','ip_length','frame_length','frame_cap_length','time_to_live','ethernet_length','ip_flag']\n",
    "idscols=['datetime','srcip','dstip','priority','alert','description']\n",
    "fwcols = list(firewall.columns)[1::]"
   ]
  },
  {
   "cell_type": "code",
   "execution_count": 7,
   "metadata": {
    "collapsed": true
   },
   "outputs": [],
   "source": [
    "pcapdata.columns = pcapcols\n",
    "ids= ids[idscols]\n",
    "firewall = firewall[fwcols]"
   ]
  },
  {
   "cell_type": "code",
   "execution_count": 8,
   "metadata": {
    "collapsed": true
   },
   "outputs": [],
   "source": [
    "#format pcap datetime\n",
    "pcapdata['datetime'] = [dt.strptime(i.split(\".\")[0],'%b %d, %Y %H:%M:%S') for i in pcapdata.datetime]"
   ]
  },
  {
   "cell_type": "code",
   "execution_count": 9,
   "metadata": {
    "collapsed": true
   },
   "outputs": [],
   "source": [
    "#format ids datetime\n",
    "ids['datetime'] = [dt.strptime(i,'%Y-%m-%d %H:%M:%S') for i in ids.datetime]"
   ]
  },
  {
   "cell_type": "code",
   "execution_count": 10,
   "metadata": {
    "collapsed": true
   },
   "outputs": [],
   "source": [
    "#format firewall datetime\n",
    "firewall['datetime'] = [dt.strptime(i,'%Y-%m-%d %H:%M:%S') for i in firewall.datetime]"
   ]
  },
  {
   "cell_type": "code",
   "execution_count": null,
   "metadata": {
    "collapsed": true
   },
   "outputs": [],
   "source": [
    "firewall.head()"
   ]
  },
  {
   "cell_type": "code",
   "execution_count": null,
   "metadata": {
    "collapsed": true
   },
   "outputs": [],
   "source": [
    "#aggregate"
   ]
  },
  {
   "cell_type": "code",
   "execution_count": 11,
   "metadata": {
    "collapsed": true
   },
   "outputs": [],
   "source": [
    "#aggregate pcaps on datetime\n",
    "pcapd = pcapdata.groupby(\"datetime\")[['epoch_time','ip_length', 'frame_length','frame_cap_length','time_to_live','ethernet_length']].sum()"
   ]
  },
  {
   "cell_type": "code",
   "execution_count": 14,
   "metadata": {
    "collapsed": true
   },
   "outputs": [],
   "source": [
    "pcapd['source_port'] = [len(i) for i in pcapdata.groupby(\"datetime\")[\"source_port\"].unique()]\n",
    "pcapd['source_port'] = [len(i) for i in pcapdata.groupby(\"datetime\")[\"destination_port\"].unique()]\n",
    "pcapd['source_port']= [len(i) for i in pcapdata.groupby(\"datetime\")[\"source_ip\"].unique()]\n",
    "pcapd['destination_ip'] = [len(i) for i in pcapdata.groupby(\"datetime\")[\"destination_ip\"].unique()]\n",
    "pcapd['ip_flags'] = [len(i) for i in pcapdata.groupby(\"datetime\")[\"ip_flag\"].unique()]\n",
    "pcapd['protocols'] = [len(i) for i in pcapdata.groupby(\"datetime\")[\"protocol\"].unique()]\n",
    "pcapd['Number_Packets'] = pcapdata.groupby(\"datetime\")['datetime'].count()"
   ]
  },
  {
   "cell_type": "code",
   "execution_count": 16,
   "metadata": {
    "collapsed": true
   },
   "outputs": [],
   "source": [
    "pcapd.to_csv(\"Database/aggregated/PhysicalDimension/pcap_per_sec_agg.csv\")"
   ]
  },
  {
   "cell_type": "code",
   "execution_count": 24,
   "metadata": {
    "collapsed": true
   },
   "outputs": [],
   "source": [
    "pcapd['permin'] = [str(i)[:-3] for i in list(pcapd.index)]"
   ]
  },
  {
   "cell_type": "code",
   "execution_count": 26,
   "metadata": {
    "collapsed": true
   },
   "outputs": [],
   "source": [
    "pcappermin = pcapd.groupby(\"permin\").sum()\n",
    "pcappermin.to_csv(\"Database/aggregated/PhysicalDimension/pcap_per_min_agg.csv\")"
   ]
  },
  {
   "cell_type": "code",
   "execution_count": 28,
   "metadata": {},
   "outputs": [
    {
     "data": {
      "text/html": [
       "<div>\n",
       "<style scoped>\n",
       "    .dataframe tbody tr th:only-of-type {\n",
       "        vertical-align: middle;\n",
       "    }\n",
       "\n",
       "    .dataframe tbody tr th {\n",
       "        vertical-align: top;\n",
       "    }\n",
       "\n",
       "    .dataframe thead th {\n",
       "        text-align: right;\n",
       "    }\n",
       "</style>\n",
       "<table border=\"1\" class=\"dataframe\">\n",
       "  <thead>\n",
       "    <tr style=\"text-align: right;\">\n",
       "      <th></th>\n",
       "      <th>datetime</th>\n",
       "      <th>srcip</th>\n",
       "      <th>dstip</th>\n",
       "      <th>priority</th>\n",
       "      <th>alert</th>\n",
       "      <th>description</th>\n",
       "    </tr>\n",
       "  </thead>\n",
       "  <tbody>\n",
       "    <tr>\n",
       "      <th>0</th>\n",
       "      <td>2011-04-13 07:54:00</td>\n",
       "      <td>192.168.2.136</td>\n",
       "      <td>192.168.1.14</td>\n",
       "      <td>3</td>\n",
       "      <td>portscan</td>\n",
       "      <td>TCP Portscan</td>\n",
       "    </tr>\n",
       "    <tr>\n",
       "      <th>1</th>\n",
       "      <td>2011-04-13 07:54:00</td>\n",
       "      <td>192.168.2.136</td>\n",
       "      <td>192.168.1.2</td>\n",
       "      <td>3</td>\n",
       "      <td>portscan</td>\n",
       "      <td>TCP Portscan</td>\n",
       "    </tr>\n",
       "    <tr>\n",
       "      <th>2</th>\n",
       "      <td>2011-04-13 07:54:05</td>\n",
       "      <td>192.168.2.136</td>\n",
       "      <td>192.168.1.14</td>\n",
       "      <td>3</td>\n",
       "      <td>portscan</td>\n",
       "      <td>TCP Portsweep</td>\n",
       "    </tr>\n",
       "    <tr>\n",
       "      <th>3</th>\n",
       "      <td>2011-04-13 07:54:53</td>\n",
       "      <td>192.168.2.145</td>\n",
       "      <td>192.168.1.14</td>\n",
       "      <td>3</td>\n",
       "      <td>portscan</td>\n",
       "      <td>TCP Portscan</td>\n",
       "    </tr>\n",
       "    <tr>\n",
       "      <th>4</th>\n",
       "      <td>2011-04-13 07:54:53</td>\n",
       "      <td>192.168.2.145</td>\n",
       "      <td>192.168.1.2</td>\n",
       "      <td>3</td>\n",
       "      <td>portscan</td>\n",
       "      <td>TCP Portscan</td>\n",
       "    </tr>\n",
       "  </tbody>\n",
       "</table>\n",
       "</div>"
      ],
      "text/plain": [
       "             datetime          srcip         dstip  priority     alert  \\\n",
       "0 2011-04-13 07:54:00  192.168.2.136  192.168.1.14         3  portscan   \n",
       "1 2011-04-13 07:54:00  192.168.2.136   192.168.1.2         3  portscan   \n",
       "2 2011-04-13 07:54:05  192.168.2.136  192.168.1.14         3  portscan   \n",
       "3 2011-04-13 07:54:53  192.168.2.145  192.168.1.14         3  portscan   \n",
       "4 2011-04-13 07:54:53  192.168.2.145   192.168.1.2         3  portscan   \n",
       "\n",
       "     description  \n",
       "0   TCP Portscan  \n",
       "1   TCP Portscan  \n",
       "2  TCP Portsweep  \n",
       "3   TCP Portscan  \n",
       "4   TCP Portscan  "
      ]
     },
     "execution_count": 28,
     "metadata": {},
     "output_type": "execute_result"
    }
   ],
   "source": [
    "ids.head()"
   ]
  },
  {
   "cell_type": "code",
   "execution_count": null,
   "metadata": {
    "collapsed": true
   },
   "outputs": [],
   "source": []
  },
  {
   "cell_type": "code",
   "execution_count": 2,
   "metadata": {},
   "outputs": [],
   "source": [
    "microprobs = pd.read_csv(\"Database/cleaned/SocialDimension/microprobs.csv\")\n",
    "microblogs = pd.read_csv(\"Database/cleaned/SocialDimension/microblogs.csv\")"
   ]
  },
  {
   "cell_type": "code",
   "execution_count": 3,
   "metadata": {},
   "outputs": [],
   "source": [
    "raw = pd.read_csv(\"Database/raw/SocialDimension/microblogs/Microblogs.csv\", encoding=\"latin-1\")"
   ]
  },
  {
   "cell_type": "code",
   "execution_count": 4,
   "metadata": {},
   "outputs": [
    {
     "data": {
      "text/plain": [
       "(1023077, 10)"
      ]
     },
     "execution_count": 4,
     "metadata": {},
     "output_type": "execute_result"
    }
   ],
   "source": [
    "microprobs.shape"
   ]
  },
  {
   "cell_type": "code",
   "execution_count": 5,
   "metadata": {},
   "outputs": [
    {
     "data": {
      "text/plain": [
       "(1023077, 4)"
      ]
     },
     "execution_count": 5,
     "metadata": {},
     "output_type": "execute_result"
    }
   ],
   "source": [
    "raw.shape"
   ]
  },
  {
   "cell_type": "code",
   "execution_count": 6,
   "metadata": {},
   "outputs": [
    {
     "data": {
      "text/plain": [
       "Index(['ID', 'Created_at', 'Location', 'text'], dtype='object')"
      ]
     },
     "execution_count": 6,
     "metadata": {},
     "output_type": "execute_result"
    }
   ],
   "source": [
    "raw.columns"
   ]
  },
  {
   "cell_type": "code",
   "execution_count": 7,
   "metadata": {},
   "outputs": [
    {
     "data": {
      "text/plain": [
       "Index(['Unnamed: 0', 'Tweet', 'Anger', 'Disgust', 'Fear', 'Joy', 'Sadness',\n",
       "       'Surprise', 'Trust', 'Anticipation'],\n",
       "      dtype='object')"
      ]
     },
     "execution_count": 7,
     "metadata": {},
     "output_type": "execute_result"
    }
   ],
   "source": [
    "microprobs.columns"
   ]
  },
  {
   "cell_type": "code",
   "execution_count": 8,
   "metadata": {},
   "outputs": [],
   "source": [
    "microprobs['created'] = raw['Created_at']"
   ]
  },
  {
   "cell_type": "code",
   "execution_count": 9,
   "metadata": {},
   "outputs": [],
   "source": [
    "summable = list(microprobs.columns)[1:-1]"
   ]
  },
  {
   "cell_type": "code",
   "execution_count": 12,
   "metadata": {},
   "outputs": [
    {
     "data": {
      "text/plain": [
       "(30256, 14)"
      ]
     },
     "execution_count": 12,
     "metadata": {},
     "output_type": "execute_result"
    }
   ],
   "source": [
    "microblogs.shape"
   ]
  },
  {
   "cell_type": "code",
   "execution_count": 13,
   "metadata": {},
   "outputs": [
    {
     "data": {
      "text/html": [
       "<div>\n",
       "<style scoped>\n",
       "    .dataframe tbody tr th:only-of-type {\n",
       "        vertical-align: middle;\n",
       "    }\n",
       "\n",
       "    .dataframe tbody tr th {\n",
       "        vertical-align: top;\n",
       "    }\n",
       "\n",
       "    .dataframe thead th {\n",
       "        text-align: right;\n",
       "    }\n",
       "</style>\n",
       "<table border=\"1\" class=\"dataframe\">\n",
       "  <thead>\n",
       "    <tr style=\"text-align: right;\">\n",
       "      <th></th>\n",
       "      <th>ID</th>\n",
       "      <th>Created_at</th>\n",
       "      <th>Location</th>\n",
       "      <th>text</th>\n",
       "    </tr>\n",
       "  </thead>\n",
       "  <tbody>\n",
       "    <tr>\n",
       "      <th>0</th>\n",
       "      <td>3</td>\n",
       "      <td>5/18/2011 13:26</td>\n",
       "      <td>42.22717 93.33772</td>\n",
       "      <td>this convention filled with technology could b...</td>\n",
       "    </tr>\n",
       "    <tr>\n",
       "      <th>1</th>\n",
       "      <td>3</td>\n",
       "      <td>5/10/2011 9:22</td>\n",
       "      <td>42.18881 93.35642</td>\n",
       "      <td>4 orang top scorer skrg  3 di antara nya pake ...</td>\n",
       "    </tr>\n",
       "    <tr>\n",
       "      <th>2</th>\n",
       "      <td>3</td>\n",
       "      <td>5/14/2011 9:22</td>\n",
       "      <td>42.22479 93.35922</td>\n",
       "      <td>Nike 'gana' el Mundial al patrocinador oficial...</td>\n",
       "    </tr>\n",
       "    <tr>\n",
       "      <th>3</th>\n",
       "      <td>3</td>\n",
       "      <td>5/6/2011 9:22</td>\n",
       "      <td>42.2469 93.32527</td>\n",
       "      <td>Positiiff    mau nabung beli kaos adidas aslii...</td>\n",
       "    </tr>\n",
       "    <tr>\n",
       "      <th>4</th>\n",
       "      <td>3</td>\n",
       "      <td>5/19/2011 9:22</td>\n",
       "      <td>42.2354 93.35642</td>\n",
       "      <td>I kick it like Adidas</td>\n",
       "    </tr>\n",
       "  </tbody>\n",
       "</table>\n",
       "</div>"
      ],
      "text/plain": [
       "   ID       Created_at           Location  \\\n",
       "0   3  5/18/2011 13:26  42.22717 93.33772   \n",
       "1   3   5/10/2011 9:22  42.18881 93.35642   \n",
       "2   3   5/14/2011 9:22  42.22479 93.35922   \n",
       "3   3    5/6/2011 9:22   42.2469 93.32527   \n",
       "4   3   5/19/2011 9:22   42.2354 93.35642   \n",
       "\n",
       "                                                text  \n",
       "0  this convention filled with technology could b...  \n",
       "1  4 orang top scorer skrg  3 di antara nya pake ...  \n",
       "2  Nike 'gana' el Mundial al patrocinador oficial...  \n",
       "3  Positiiff    mau nabung beli kaos adidas aslii...  \n",
       "4                              I kick it like Adidas  "
      ]
     },
     "execution_count": 13,
     "metadata": {},
     "output_type": "execute_result"
    }
   ],
   "source": [
    "raw.head()"
   ]
  },
  {
   "cell_type": "code",
   "execution_count": 18,
   "metadata": {},
   "outputs": [],
   "source": [
    "chat_traffic = [len(i) for i in raw.groupby(\"Created_at\")[\"ID\"].unique()]\n",
    "chat_Congestion = list(raw.groupby(\"Created_at\")[\"ID\"].count())"
   ]
  },
  {
   "cell_type": "code",
   "execution_count": 19,
   "metadata": {},
   "outputs": [],
   "source": [
    "dd1=microprobs.groupby('created')[summable].sum()"
   ]
  },
  {
   "cell_type": "code",
   "execution_count": 20,
   "metadata": {},
   "outputs": [],
   "source": [
    "dd1[\"chat_traffic\"] = chat_traffic\n",
    "dd1[\"chat_congestion\"] = chat_Congestion"
   ]
  },
  {
   "cell_type": "code",
   "execution_count": 21,
   "metadata": {},
   "outputs": [
    {
     "data": {
      "text/html": [
       "<div>\n",
       "<style scoped>\n",
       "    .dataframe tbody tr th:only-of-type {\n",
       "        vertical-align: middle;\n",
       "    }\n",
       "\n",
       "    .dataframe tbody tr th {\n",
       "        vertical-align: top;\n",
       "    }\n",
       "\n",
       "    .dataframe thead th {\n",
       "        text-align: right;\n",
       "    }\n",
       "</style>\n",
       "<table border=\"1\" class=\"dataframe\">\n",
       "  <thead>\n",
       "    <tr style=\"text-align: right;\">\n",
       "      <th></th>\n",
       "      <th>Anger</th>\n",
       "      <th>Disgust</th>\n",
       "      <th>Fear</th>\n",
       "      <th>Joy</th>\n",
       "      <th>Sadness</th>\n",
       "      <th>Surprise</th>\n",
       "      <th>Trust</th>\n",
       "      <th>Anticipation</th>\n",
       "      <th>chat_traffic</th>\n",
       "      <th>chat_congestion</th>\n",
       "    </tr>\n",
       "    <tr>\n",
       "      <th>created</th>\n",
       "      <th></th>\n",
       "      <th></th>\n",
       "      <th></th>\n",
       "      <th></th>\n",
       "      <th></th>\n",
       "      <th></th>\n",
       "      <th></th>\n",
       "      <th></th>\n",
       "      <th></th>\n",
       "      <th></th>\n",
       "    </tr>\n",
       "  </thead>\n",
       "  <tbody>\n",
       "    <tr>\n",
       "      <th>4/30/2011 0:00</th>\n",
       "      <td>1.681948</td>\n",
       "      <td>0.320272</td>\n",
       "      <td>2.206636</td>\n",
       "      <td>5.297901</td>\n",
       "      <td>2.635536</td>\n",
       "      <td>5.060040</td>\n",
       "      <td>4.702679</td>\n",
       "      <td>1.094988</td>\n",
       "      <td>22</td>\n",
       "      <td>23</td>\n",
       "    </tr>\n",
       "    <tr>\n",
       "      <th>4/30/2011 0:01</th>\n",
       "      <td>0.662022</td>\n",
       "      <td>0.132831</td>\n",
       "      <td>2.866763</td>\n",
       "      <td>8.457866</td>\n",
       "      <td>4.012731</td>\n",
       "      <td>3.690548</td>\n",
       "      <td>7.865430</td>\n",
       "      <td>1.311809</td>\n",
       "      <td>24</td>\n",
       "      <td>29</td>\n",
       "    </tr>\n",
       "    <tr>\n",
       "      <th>4/30/2011 0:02</th>\n",
       "      <td>0.889514</td>\n",
       "      <td>0.057631</td>\n",
       "      <td>1.294836</td>\n",
       "      <td>10.214475</td>\n",
       "      <td>1.303624</td>\n",
       "      <td>2.196305</td>\n",
       "      <td>4.488440</td>\n",
       "      <td>1.555175</td>\n",
       "      <td>19</td>\n",
       "      <td>22</td>\n",
       "    </tr>\n",
       "    <tr>\n",
       "      <th>4/30/2011 0:03</th>\n",
       "      <td>1.450280</td>\n",
       "      <td>0.372583</td>\n",
       "      <td>2.595671</td>\n",
       "      <td>8.970281</td>\n",
       "      <td>6.258059</td>\n",
       "      <td>4.424716</td>\n",
       "      <td>9.317621</td>\n",
       "      <td>1.610789</td>\n",
       "      <td>30</td>\n",
       "      <td>35</td>\n",
       "    </tr>\n",
       "    <tr>\n",
       "      <th>4/30/2011 0:04</th>\n",
       "      <td>0.616463</td>\n",
       "      <td>0.186730</td>\n",
       "      <td>1.554757</td>\n",
       "      <td>8.636728</td>\n",
       "      <td>3.271101</td>\n",
       "      <td>2.885602</td>\n",
       "      <td>4.288513</td>\n",
       "      <td>0.560107</td>\n",
       "      <td>20</td>\n",
       "      <td>22</td>\n",
       "    </tr>\n",
       "  </tbody>\n",
       "</table>\n",
       "</div>"
      ],
      "text/plain": [
       "                   Anger   Disgust      Fear        Joy   Sadness  Surprise  \\\n",
       "created                                                                       \n",
       "4/30/2011 0:00  1.681948  0.320272  2.206636   5.297901  2.635536  5.060040   \n",
       "4/30/2011 0:01  0.662022  0.132831  2.866763   8.457866  4.012731  3.690548   \n",
       "4/30/2011 0:02  0.889514  0.057631  1.294836  10.214475  1.303624  2.196305   \n",
       "4/30/2011 0:03  1.450280  0.372583  2.595671   8.970281  6.258059  4.424716   \n",
       "4/30/2011 0:04  0.616463  0.186730  1.554757   8.636728  3.271101  2.885602   \n",
       "\n",
       "                   Trust  Anticipation  chat_traffic  chat_congestion  \n",
       "created                                                                \n",
       "4/30/2011 0:00  4.702679      1.094988            22               23  \n",
       "4/30/2011 0:01  7.865430      1.311809            24               29  \n",
       "4/30/2011 0:02  4.488440      1.555175            19               22  \n",
       "4/30/2011 0:03  9.317621      1.610789            30               35  \n",
       "4/30/2011 0:04  4.288513      0.560107            20               22  "
      ]
     },
     "execution_count": 21,
     "metadata": {},
     "output_type": "execute_result"
    }
   ],
   "source": [
    "dd1.head()"
   ]
  },
  {
   "cell_type": "code",
   "execution_count": 22,
   "metadata": {},
   "outputs": [],
   "source": [
    "for i in range(1, len(dd1.columns)):\n",
    "    var = list(dd1.columns)[i]\n",
    "    microblogs[var] = list(dd1[var])"
   ]
  },
  {
   "cell_type": "code",
   "execution_count": 23,
   "metadata": {},
   "outputs": [],
   "source": [
    "microblogs['datetime'] = list(dd1.index)"
   ]
  },
  {
   "cell_type": "code",
   "execution_count": 24,
   "metadata": {},
   "outputs": [
    {
     "data": {
      "text/html": [
       "<div>\n",
       "<style scoped>\n",
       "    .dataframe tbody tr th:only-of-type {\n",
       "        vertical-align: middle;\n",
       "    }\n",
       "\n",
       "    .dataframe tbody tr th {\n",
       "        vertical-align: top;\n",
       "    }\n",
       "\n",
       "    .dataframe thead th {\n",
       "        text-align: right;\n",
       "    }\n",
       "</style>\n",
       "<table border=\"1\" class=\"dataframe\">\n",
       "  <thead>\n",
       "    <tr style=\"text-align: right;\">\n",
       "      <th></th>\n",
       "      <th>Unnamed: 0</th>\n",
       "      <th>compound</th>\n",
       "      <th>cyber_rel</th>\n",
       "      <th>docLength</th>\n",
       "      <th>entropy</th>\n",
       "      <th>fire_rel</th>\n",
       "      <th>flu_rel</th>\n",
       "      <th>negativity</th>\n",
       "      <th>neutrality</th>\n",
       "      <th>polarity</th>\n",
       "      <th>...</th>\n",
       "      <th>Disgust</th>\n",
       "      <th>Fear</th>\n",
       "      <th>Joy</th>\n",
       "      <th>Sadness</th>\n",
       "      <th>Surprise</th>\n",
       "      <th>Trust</th>\n",
       "      <th>Anticipation</th>\n",
       "      <th>chat_traffic</th>\n",
       "      <th>chat_congestion</th>\n",
       "      <th>datetime</th>\n",
       "    </tr>\n",
       "  </thead>\n",
       "  <tbody>\n",
       "    <tr>\n",
       "      <th>0</th>\n",
       "      <td>0</td>\n",
       "      <td>0.5207</td>\n",
       "      <td>8</td>\n",
       "      <td>1608</td>\n",
       "      <td>5.217311</td>\n",
       "      <td>1</td>\n",
       "      <td>21</td>\n",
       "      <td>0.095</td>\n",
       "      <td>0.792</td>\n",
       "      <td>-0.023807</td>\n",
       "      <td>...</td>\n",
       "      <td>0.320272</td>\n",
       "      <td>2.206636</td>\n",
       "      <td>5.297901</td>\n",
       "      <td>2.635536</td>\n",
       "      <td>5.060040</td>\n",
       "      <td>4.702679</td>\n",
       "      <td>1.094988</td>\n",
       "      <td>22</td>\n",
       "      <td>23</td>\n",
       "      <td>4/30/2011 0:00</td>\n",
       "    </tr>\n",
       "    <tr>\n",
       "      <th>1</th>\n",
       "      <td>1</td>\n",
       "      <td>0.9682</td>\n",
       "      <td>14</td>\n",
       "      <td>2125</td>\n",
       "      <td>5.360794</td>\n",
       "      <td>3</td>\n",
       "      <td>39</td>\n",
       "      <td>0.081</td>\n",
       "      <td>0.784</td>\n",
       "      <td>0.176035</td>\n",
       "      <td>...</td>\n",
       "      <td>0.132831</td>\n",
       "      <td>2.866763</td>\n",
       "      <td>8.457866</td>\n",
       "      <td>4.012731</td>\n",
       "      <td>3.690548</td>\n",
       "      <td>7.865430</td>\n",
       "      <td>1.311809</td>\n",
       "      <td>24</td>\n",
       "      <td>29</td>\n",
       "      <td>4/30/2011 0:01</td>\n",
       "    </tr>\n",
       "    <tr>\n",
       "      <th>2</th>\n",
       "      <td>2</td>\n",
       "      <td>0.9835</td>\n",
       "      <td>9</td>\n",
       "      <td>1819</td>\n",
       "      <td>5.277626</td>\n",
       "      <td>1</td>\n",
       "      <td>28</td>\n",
       "      <td>0.087</td>\n",
       "      <td>0.750</td>\n",
       "      <td>0.072971</td>\n",
       "      <td>...</td>\n",
       "      <td>0.057631</td>\n",
       "      <td>1.294836</td>\n",
       "      <td>10.214475</td>\n",
       "      <td>1.303624</td>\n",
       "      <td>2.196305</td>\n",
       "      <td>4.488440</td>\n",
       "      <td>1.555175</td>\n",
       "      <td>19</td>\n",
       "      <td>22</td>\n",
       "      <td>4/30/2011 0:02</td>\n",
       "    </tr>\n",
       "    <tr>\n",
       "      <th>3</th>\n",
       "      <td>3</td>\n",
       "      <td>0.9833</td>\n",
       "      <td>8</td>\n",
       "      <td>2455</td>\n",
       "      <td>5.446393</td>\n",
       "      <td>0</td>\n",
       "      <td>29</td>\n",
       "      <td>0.074</td>\n",
       "      <td>0.792</td>\n",
       "      <td>0.104676</td>\n",
       "      <td>...</td>\n",
       "      <td>0.372583</td>\n",
       "      <td>2.595671</td>\n",
       "      <td>8.970281</td>\n",
       "      <td>6.258059</td>\n",
       "      <td>4.424716</td>\n",
       "      <td>9.317621</td>\n",
       "      <td>1.610789</td>\n",
       "      <td>30</td>\n",
       "      <td>35</td>\n",
       "      <td>4/30/2011 0:03</td>\n",
       "    </tr>\n",
       "    <tr>\n",
       "      <th>4</th>\n",
       "      <td>4</td>\n",
       "      <td>-0.7010</td>\n",
       "      <td>5</td>\n",
       "      <td>1657</td>\n",
       "      <td>5.028066</td>\n",
       "      <td>1</td>\n",
       "      <td>22</td>\n",
       "      <td>0.106</td>\n",
       "      <td>0.805</td>\n",
       "      <td>0.169669</td>\n",
       "      <td>...</td>\n",
       "      <td>0.186730</td>\n",
       "      <td>1.554757</td>\n",
       "      <td>8.636728</td>\n",
       "      <td>3.271101</td>\n",
       "      <td>2.885602</td>\n",
       "      <td>4.288513</td>\n",
       "      <td>0.560107</td>\n",
       "      <td>20</td>\n",
       "      <td>22</td>\n",
       "      <td>4/30/2011 0:04</td>\n",
       "    </tr>\n",
       "  </tbody>\n",
       "</table>\n",
       "<p>5 rows × 24 columns</p>\n",
       "</div>"
      ],
      "text/plain": [
       "   Unnamed: 0  compound  cyber_rel  docLength   entropy  fire_rel  flu_rel  \\\n",
       "0           0    0.5207          8       1608  5.217311         1       21   \n",
       "1           1    0.9682         14       2125  5.360794         3       39   \n",
       "2           2    0.9835          9       1819  5.277626         1       28   \n",
       "3           3    0.9833          8       2455  5.446393         0       29   \n",
       "4           4   -0.7010          5       1657  5.028066         1       22   \n",
       "\n",
       "   negativity  neutrality  polarity       ...         Disgust      Fear  \\\n",
       "0       0.095       0.792 -0.023807       ...        0.320272  2.206636   \n",
       "1       0.081       0.784  0.176035       ...        0.132831  2.866763   \n",
       "2       0.087       0.750  0.072971       ...        0.057631  1.294836   \n",
       "3       0.074       0.792  0.104676       ...        0.372583  2.595671   \n",
       "4       0.106       0.805  0.169669       ...        0.186730  1.554757   \n",
       "\n",
       "         Joy   Sadness  Surprise     Trust  Anticipation  chat_traffic  \\\n",
       "0   5.297901  2.635536  5.060040  4.702679      1.094988            22   \n",
       "1   8.457866  4.012731  3.690548  7.865430      1.311809            24   \n",
       "2  10.214475  1.303624  2.196305  4.488440      1.555175            19   \n",
       "3   8.970281  6.258059  4.424716  9.317621      1.610789            30   \n",
       "4   8.636728  3.271101  2.885602  4.288513      0.560107            20   \n",
       "\n",
       "   chat_congestion        datetime  \n",
       "0               23  4/30/2011 0:00  \n",
       "1               29  4/30/2011 0:01  \n",
       "2               22  4/30/2011 0:02  \n",
       "3               35  4/30/2011 0:03  \n",
       "4               22  4/30/2011 0:04  \n",
       "\n",
       "[5 rows x 24 columns]"
      ]
     },
     "execution_count": 24,
     "metadata": {},
     "output_type": "execute_result"
    }
   ],
   "source": [
    "microblogs.head()"
   ]
  },
  {
   "cell_type": "code",
   "execution_count": 25,
   "metadata": {},
   "outputs": [],
   "source": [
    "microblogs[list(microblogs.columns)[1:]].to_csv(\"Database/aggregated/SocialDimension/sd.csv\")"
   ]
  },
  {
   "cell_type": "code",
   "execution_count": null,
   "metadata": {
    "collapsed": true
   },
   "outputs": [],
   "source": []
  },
  {
   "cell_type": "code",
   "execution_count": null,
   "metadata": {
    "collapsed": true
   },
   "outputs": [],
   "source": []
  },
  {
   "cell_type": "code",
   "execution_count": 53,
   "metadata": {
    "collapsed": true
   },
   "outputs": [],
   "source": [
    "economic = \"Database/cleaned/EconomicDimension/bitcoins.csv\"\n",
    "economic = pd.read_csv(economic)"
   ]
  },
  {
   "cell_type": "code",
   "execution_count": 54,
   "metadata": {
    "scrolled": true
   },
   "outputs": [
    {
     "data": {
      "text/html": [
       "<div>\n",
       "<style>\n",
       "    .dataframe thead tr:only-child th {\n",
       "        text-align: right;\n",
       "    }\n",
       "\n",
       "    .dataframe thead th {\n",
       "        text-align: left;\n",
       "    }\n",
       "\n",
       "    .dataframe tbody tr th {\n",
       "        vertical-align: top;\n",
       "    }\n",
       "</style>\n",
       "<table border=\"1\" class=\"dataframe\">\n",
       "  <thead>\n",
       "    <tr style=\"text-align: right;\">\n",
       "      <th></th>\n",
       "      <th>Unnamed: 0</th>\n",
       "      <th>datetime</th>\n",
       "      <th>open</th>\n",
       "      <th>high</th>\n",
       "      <th>low</th>\n",
       "      <th>close</th>\n",
       "      <th>volume_btc</th>\n",
       "      <th>volume_usd</th>\n",
       "      <th>weighted_price</th>\n",
       "    </tr>\n",
       "  </thead>\n",
       "  <tbody>\n",
       "    <tr>\n",
       "      <th>0</th>\n",
       "      <td>0</td>\n",
       "      <td>2016-12-31 08:31:00</td>\n",
       "      <td>9.289600e+02</td>\n",
       "      <td>9.289600e+02</td>\n",
       "      <td>9.251900e+02</td>\n",
       "      <td>9.251900e+02</td>\n",
       "      <td>1.256886e-02</td>\n",
       "      <td>1.166000e+01</td>\n",
       "      <td>9.276893e+02</td>\n",
       "    </tr>\n",
       "    <tr>\n",
       "      <th>1</th>\n",
       "      <td>1</td>\n",
       "      <td>2016-12-31 08:32:00</td>\n",
       "      <td>9.244400e+02</td>\n",
       "      <td>9.244400e+02</td>\n",
       "      <td>9.225900e+02</td>\n",
       "      <td>9.225900e+02</td>\n",
       "      <td>7.103480e-03</td>\n",
       "      <td>6.560003e+00</td>\n",
       "      <td>9.234915e+02</td>\n",
       "    </tr>\n",
       "    <tr>\n",
       "      <th>2</th>\n",
       "      <td>2</td>\n",
       "      <td>2016-12-31 08:33:00</td>\n",
       "      <td>1.700000e+308</td>\n",
       "      <td>1.700000e+308</td>\n",
       "      <td>1.700000e+308</td>\n",
       "      <td>1.700000e+308</td>\n",
       "      <td>1.700000e+308</td>\n",
       "      <td>1.700000e+308</td>\n",
       "      <td>1.700000e+308</td>\n",
       "    </tr>\n",
       "    <tr>\n",
       "      <th>3</th>\n",
       "      <td>3</td>\n",
       "      <td>2016-12-31 08:34:00</td>\n",
       "      <td>1.700000e+308</td>\n",
       "      <td>1.700000e+308</td>\n",
       "      <td>1.700000e+308</td>\n",
       "      <td>1.700000e+308</td>\n",
       "      <td>1.700000e+308</td>\n",
       "      <td>1.700000e+308</td>\n",
       "      <td>1.700000e+308</td>\n",
       "    </tr>\n",
       "    <tr>\n",
       "      <th>4</th>\n",
       "      <td>4</td>\n",
       "      <td>2016-12-31 08:35:00</td>\n",
       "      <td>1.700000e+308</td>\n",
       "      <td>1.700000e+308</td>\n",
       "      <td>1.700000e+308</td>\n",
       "      <td>1.700000e+308</td>\n",
       "      <td>1.700000e+308</td>\n",
       "      <td>1.700000e+308</td>\n",
       "      <td>1.700000e+308</td>\n",
       "    </tr>\n",
       "  </tbody>\n",
       "</table>\n",
       "</div>"
      ],
      "text/plain": [
       "   Unnamed: 0             datetime           open           high  \\\n",
       "0           0  2016-12-31 08:31:00   9.289600e+02   9.289600e+02   \n",
       "1           1  2016-12-31 08:32:00   9.244400e+02   9.244400e+02   \n",
       "2           2  2016-12-31 08:33:00  1.700000e+308  1.700000e+308   \n",
       "3           3  2016-12-31 08:34:00  1.700000e+308  1.700000e+308   \n",
       "4           4  2016-12-31 08:35:00  1.700000e+308  1.700000e+308   \n",
       "\n",
       "             low          close     volume_btc     volume_usd  weighted_price  \n",
       "0   9.251900e+02   9.251900e+02   1.256886e-02   1.166000e+01    9.276893e+02  \n",
       "1   9.225900e+02   9.225900e+02   7.103480e-03   6.560003e+00    9.234915e+02  \n",
       "2  1.700000e+308  1.700000e+308  1.700000e+308  1.700000e+308   1.700000e+308  \n",
       "3  1.700000e+308  1.700000e+308  1.700000e+308  1.700000e+308   1.700000e+308  \n",
       "4  1.700000e+308  1.700000e+308  1.700000e+308  1.700000e+308   1.700000e+308  "
      ]
     },
     "execution_count": 54,
     "metadata": {},
     "output_type": "execute_result"
    }
   ],
   "source": [
    "economic.head()"
   ]
  },
  {
   "cell_type": "code",
   "execution_count": 62,
   "metadata": {
    "collapsed": true
   },
   "outputs": [],
   "source": [
    "ec2017 = economic[economic.datetime.str.contains('2017')]\n",
    "ec2017.to_csv('Database/aggregated/EconomicDimension/ec.csv')"
   ]
  },
  {
   "cell_type": "code",
   "execution_count": 3,
   "metadata": {
    "collapsed": true
   },
   "outputs": [],
   "source": [
    "sd = pd.read_csv(\"Database/aggregated/SocialDimension/sd.csv\")"
   ]
  },
  {
   "cell_type": "code",
   "execution_count": 4,
   "metadata": {},
   "outputs": [
    {
     "data": {
      "text/html": [
       "<div>\n",
       "<style>\n",
       "    .dataframe thead tr:only-child th {\n",
       "        text-align: right;\n",
       "    }\n",
       "\n",
       "    .dataframe thead th {\n",
       "        text-align: left;\n",
       "    }\n",
       "\n",
       "    .dataframe tbody tr th {\n",
       "        vertical-align: top;\n",
       "    }\n",
       "</style>\n",
       "<table border=\"1\" class=\"dataframe\">\n",
       "  <thead>\n",
       "    <tr style=\"text-align: right;\">\n",
       "      <th></th>\n",
       "      <th>Unnamed: 0</th>\n",
       "      <th>compound</th>\n",
       "      <th>cyber_rel</th>\n",
       "      <th>docLength</th>\n",
       "      <th>entropy</th>\n",
       "      <th>fire_rel</th>\n",
       "      <th>flu_rel</th>\n",
       "      <th>negativity</th>\n",
       "      <th>neutrality</th>\n",
       "      <th>polarity</th>\n",
       "      <th>...</th>\n",
       "      <th>weaponization</th>\n",
       "      <th>wordcount</th>\n",
       "      <th>Disgust</th>\n",
       "      <th>Fear</th>\n",
       "      <th>Joy</th>\n",
       "      <th>Sadness</th>\n",
       "      <th>Surprise</th>\n",
       "      <th>Trust</th>\n",
       "      <th>Anticipation</th>\n",
       "      <th>datetime</th>\n",
       "    </tr>\n",
       "  </thead>\n",
       "  <tbody>\n",
       "    <tr>\n",
       "      <th>0</th>\n",
       "      <td>0</td>\n",
       "      <td>0.5207</td>\n",
       "      <td>8</td>\n",
       "      <td>1608</td>\n",
       "      <td>5.217311</td>\n",
       "      <td>1</td>\n",
       "      <td>21</td>\n",
       "      <td>0.095</td>\n",
       "      <td>0.792</td>\n",
       "      <td>-0.023807</td>\n",
       "      <td>...</td>\n",
       "      <td>1034</td>\n",
       "      <td>280</td>\n",
       "      <td>0.320272</td>\n",
       "      <td>2.206636</td>\n",
       "      <td>5.297901</td>\n",
       "      <td>2.635536</td>\n",
       "      <td>5.060040</td>\n",
       "      <td>4.702679</td>\n",
       "      <td>1.094988</td>\n",
       "      <td>4/30/2011 0:00</td>\n",
       "    </tr>\n",
       "    <tr>\n",
       "      <th>1</th>\n",
       "      <td>1</td>\n",
       "      <td>0.9682</td>\n",
       "      <td>14</td>\n",
       "      <td>2125</td>\n",
       "      <td>5.360794</td>\n",
       "      <td>3</td>\n",
       "      <td>39</td>\n",
       "      <td>0.081</td>\n",
       "      <td>0.784</td>\n",
       "      <td>0.176035</td>\n",
       "      <td>...</td>\n",
       "      <td>1515</td>\n",
       "      <td>340</td>\n",
       "      <td>0.132831</td>\n",
       "      <td>2.866763</td>\n",
       "      <td>8.457866</td>\n",
       "      <td>4.012731</td>\n",
       "      <td>3.690548</td>\n",
       "      <td>7.865430</td>\n",
       "      <td>1.311809</td>\n",
       "      <td>4/30/2011 0:01</td>\n",
       "    </tr>\n",
       "    <tr>\n",
       "      <th>2</th>\n",
       "      <td>2</td>\n",
       "      <td>0.9835</td>\n",
       "      <td>9</td>\n",
       "      <td>1819</td>\n",
       "      <td>5.277626</td>\n",
       "      <td>1</td>\n",
       "      <td>28</td>\n",
       "      <td>0.087</td>\n",
       "      <td>0.750</td>\n",
       "      <td>0.072971</td>\n",
       "      <td>...</td>\n",
       "      <td>1203</td>\n",
       "      <td>307</td>\n",
       "      <td>0.057631</td>\n",
       "      <td>1.294836</td>\n",
       "      <td>10.214475</td>\n",
       "      <td>1.303624</td>\n",
       "      <td>2.196305</td>\n",
       "      <td>4.488440</td>\n",
       "      <td>1.555175</td>\n",
       "      <td>4/30/2011 0:02</td>\n",
       "    </tr>\n",
       "    <tr>\n",
       "      <th>3</th>\n",
       "      <td>3</td>\n",
       "      <td>0.9833</td>\n",
       "      <td>8</td>\n",
       "      <td>2455</td>\n",
       "      <td>5.446393</td>\n",
       "      <td>0</td>\n",
       "      <td>29</td>\n",
       "      <td>0.074</td>\n",
       "      <td>0.792</td>\n",
       "      <td>0.104676</td>\n",
       "      <td>...</td>\n",
       "      <td>1595</td>\n",
       "      <td>432</td>\n",
       "      <td>0.372583</td>\n",
       "      <td>2.595671</td>\n",
       "      <td>8.970281</td>\n",
       "      <td>6.258059</td>\n",
       "      <td>4.424716</td>\n",
       "      <td>9.317621</td>\n",
       "      <td>1.610789</td>\n",
       "      <td>4/30/2011 0:03</td>\n",
       "    </tr>\n",
       "    <tr>\n",
       "      <th>4</th>\n",
       "      <td>4</td>\n",
       "      <td>-0.7010</td>\n",
       "      <td>5</td>\n",
       "      <td>1657</td>\n",
       "      <td>5.028066</td>\n",
       "      <td>1</td>\n",
       "      <td>22</td>\n",
       "      <td>0.106</td>\n",
       "      <td>0.805</td>\n",
       "      <td>0.169669</td>\n",
       "      <td>...</td>\n",
       "      <td>1077</td>\n",
       "      <td>274</td>\n",
       "      <td>0.186730</td>\n",
       "      <td>1.554757</td>\n",
       "      <td>8.636728</td>\n",
       "      <td>3.271101</td>\n",
       "      <td>2.885602</td>\n",
       "      <td>4.288513</td>\n",
       "      <td>0.560107</td>\n",
       "      <td>4/30/2011 0:04</td>\n",
       "    </tr>\n",
       "  </tbody>\n",
       "</table>\n",
       "<p>5 rows × 22 columns</p>\n",
       "</div>"
      ],
      "text/plain": [
       "   Unnamed: 0  compound  cyber_rel  docLength   entropy  fire_rel  flu_rel  \\\n",
       "0           0    0.5207          8       1608  5.217311         1       21   \n",
       "1           1    0.9682         14       2125  5.360794         3       39   \n",
       "2           2    0.9835          9       1819  5.277626         1       28   \n",
       "3           3    0.9833          8       2455  5.446393         0       29   \n",
       "4           4   -0.7010          5       1657  5.028066         1       22   \n",
       "\n",
       "   negativity  neutrality  polarity       ...        weaponization  wordcount  \\\n",
       "0       0.095       0.792 -0.023807       ...                 1034        280   \n",
       "1       0.081       0.784  0.176035       ...                 1515        340   \n",
       "2       0.087       0.750  0.072971       ...                 1203        307   \n",
       "3       0.074       0.792  0.104676       ...                 1595        432   \n",
       "4       0.106       0.805  0.169669       ...                 1077        274   \n",
       "\n",
       "    Disgust      Fear        Joy   Sadness  Surprise     Trust  Anticipation  \\\n",
       "0  0.320272  2.206636   5.297901  2.635536  5.060040  4.702679      1.094988   \n",
       "1  0.132831  2.866763   8.457866  4.012731  3.690548  7.865430      1.311809   \n",
       "2  0.057631  1.294836  10.214475  1.303624  2.196305  4.488440      1.555175   \n",
       "3  0.372583  2.595671   8.970281  6.258059  4.424716  9.317621      1.610789   \n",
       "4  0.186730  1.554757   8.636728  3.271101  2.885602  4.288513      0.560107   \n",
       "\n",
       "         datetime  \n",
       "0  4/30/2011 0:00  \n",
       "1  4/30/2011 0:01  \n",
       "2  4/30/2011 0:02  \n",
       "3  4/30/2011 0:03  \n",
       "4  4/30/2011 0:04  \n",
       "\n",
       "[5 rows x 22 columns]"
      ]
     },
     "execution_count": 4,
     "metadata": {},
     "output_type": "execute_result"
    }
   ],
   "source": [
    "sd.head()"
   ]
  },
  {
   "cell_type": "code",
   "execution_count": 11,
   "metadata": {
    "collapsed": true
   },
   "outputs": [],
   "source": [
    "ww = [sd.entropy[i]/sd.wordcount[i] for i in range(sd.shape[0])]"
   ]
  },
  {
   "cell_type": "code",
   "execution_count": 12,
   "metadata": {},
   "outputs": [
    {
     "data": {
      "text/plain": [
       "[<matplotlib.lines.Line2D at 0x7ff9279c3e80>]"
      ]
     },
     "execution_count": 12,
     "metadata": {},
     "output_type": "execute_result"
    },
    {
     "data": {
      "image/png": "[encoded data removed]",
      "text/plain": [
       "<matplotlib.figure.Figure at 0x7ff9279cd470>"
      ]
     },
     "metadata": {},
     "output_type": "display_data"
    }
   ],
   "source": [
    "plt.plot(ww)"
   ]
  },
  {
   "cell_type": "code",
   "execution_count": 8,
   "metadata": {},
   "outputs": [
    {
     "data": {
      "text/plain": [
       "[<matplotlib.lines.Line2D at 0x7ff92a3eeb00>]"
      ]
     },
     "execution_count": 8,
     "metadata": {},
     "output_type": "execute_result"
    },
    {
     "data": {
      "image/png": "[encoded data removed]",
      "text/plain": [
       "<matplotlib.figure.Figure at 0x7ff92a3fc6d8>"
      ]
     },
     "metadata": {},
     "output_type": "display_data"
    }
   ],
   "source": [
    "plt.plot(sd.weaponization)"
   ]
  },
  {
   "cell_type": "code",
   "execution_count": null,
   "metadata": {
    "collapsed": true
   },
   "outputs": [],
   "source": []
  }
 ],
 "metadata": {
  "kernelspec": {
   "display_name": "Python 3",
   "language": "python",
   "name": "python3"
  },
  "language_info": {
   "codemirror_mode": {
    "name": "ipython",
    "version": 3
   },
   "file_extension": ".py",
   "mimetype": "text/x-python",
   "name": "python",
   "nbconvert_exporter": "python",
   "pygments_lexer": "ipython3",
   "version": "3.6.5"
  }
 },
 "nbformat": 4,
 "nbformat_minor": 2
}
